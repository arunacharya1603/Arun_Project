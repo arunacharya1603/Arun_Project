{
  "nbformat": 4,
  "nbformat_minor": 0,
  "metadata": {
    "colab": {
      "provenance": [],
      "authorship_tag": "ABX9TyMWjBJWLddjtArMGTq/uYO5",
      "include_colab_link": true
    },
    "kernelspec": {
      "name": "python3",
      "display_name": "Python 3"
    },
    "language_info": {
      "name": "python"
    }
  },
  "cells": [
    {
      "cell_type": "markdown",
      "metadata": {
        "id": "view-in-github",
        "colab_type": "text"
      },
      "source": [
        "<a href=\"https://colab.research.google.com/github/arunacharya1603/Arun_Project/blob/main/Untitled4.ipynb\" target=\"_parent\"><img src=\"https://colab.research.google.com/assets/colab-badge.svg\" alt=\"Open In Colab\"/></a>"
      ]
    },
    {
      "cell_type": "code",
      "execution_count": null,
      "metadata": {
        "id": "_ah9JX8Lk31l"
      },
      "outputs": [],
      "source": [
        "import pandas as pd\n",
        "import numpy as np\n",
        "from sklearn.model_selection import train_test_split\n",
        "from sklearn.feature_extraction.text import TfidfVectorizer\n",
        "from sklearn.metrics import accuracy_score, classification_report"
      ]
    },
    {
      "cell_type": "code",
      "source": [
        "dataset = pd.read_csv('COVIDSenti.csv')"
      ],
      "metadata": {
        "id": "a3BO8T9pk8Aw"
      },
      "execution_count": null,
      "outputs": []
    },
    {
      "cell_type": "code",
      "source": [
        "dataset['tweet'] = dataset['tweet'].str.lower()\n",
        "dataset['tweet'] = dataset['tweet'].str.replace('[^a-zA-Z\\s]', '')"
      ],
      "metadata": {
        "colab": {
          "base_uri": "https://localhost:8080/"
        },
        "id": "cz6IpgTXwFif",
        "outputId": "cd953160-1f90-48be-98dd-bf18d870ed30"
      },
      "execution_count": null,
      "outputs": [
        {
          "output_type": "stream",
          "name": "stderr",
          "text": [
            "<ipython-input-56-4d0bff05f172>:2: FutureWarning: The default value of regex will change from True to False in a future version.\n",
            "  dataset['tweet'] = dataset['tweet'].str.replace('[^a-zA-Z\\s]', '')\n"
          ]
        }
      ]
    },
    {
      "cell_type": "code",
      "source": [
        "print(dataset.head())"
      ],
      "metadata": {
        "colab": {
          "base_uri": "https://localhost:8080/"
        },
        "id": "0Y5tRv1DzOaZ",
        "outputId": "b3680ad7-e399-4bac-b9c3-b9e53c5b08e0"
      },
      "execution_count": null,
      "outputs": [
        {
          "output_type": "stream",
          "name": "stdout",
          "text": [
            "                                               tweet label\n",
            "0  coronavirus  human coronavirus types  cdc http...   neu\n",
            "1  shehryartaseer thats  true  \\ncorona virus \\ns...   neu\n",
            "2  tldr not sars possibly new coronavirus difficu...   neg\n",
            "3  disease outbreak news from the who middle east...   neu\n",
            "4  china  media wsj says sources tell them myster...   neu\n"
          ]
        }
      ]
    },
    {
      "cell_type": "code",
      "source": [
        "dataset = print(dataset.drop_duplicates())"
      ],
      "metadata": {
        "id": "FLIbdd-qyJO8",
        "colab": {
          "base_uri": "https://localhost:8080/"
        },
        "outputId": "88a47825-b5a5-4bbb-d4e7-5c377eeecc5c"
      },
      "execution_count": null,
      "outputs": [
        {
          "output_type": "stream",
          "name": "stdout",
          "text": [
            "                                                   tweet label\n",
            "0      coronavirus  human coronavirus types  cdc http...   neu\n",
            "1      shehryartaseer thats  true  \\ncorona virus \\ns...   neu\n",
            "2      tldr not sars possibly new coronavirus difficu...   neg\n",
            "3      disease outbreak news from the who middle east...   neu\n",
            "4      china  media wsj says sources tell them myster...   neu\n",
            "...                                                  ...   ...\n",
            "89995  cracing the flu has a  death rate the coronavi...   neu\n",
            "89996  realdonaldtrump we already know that but youre...   neg\n",
            "89997  first coronavirus case reported in st joseph c...   neu\n",
            "89998  if you ate ants when you were a child youre im...   neu\n",
            "89999  all this coronavirus talk about to make me bea...   neu\n",
            "\n",
            "[89741 rows x 2 columns]\n"
          ]
        }
      ]
    },
    {
      "cell_type": "code",
      "source": [
        "nltk.download('stopwords')\n",
        "nltk.download('punkt')"
      ],
      "metadata": {
        "colab": {
          "base_uri": "https://localhost:8080/"
        },
        "id": "_t7yPouL4Q6i",
        "outputId": "de50ab95-61c1-4932-cfda-d7b74d753794"
      },
      "execution_count": null,
      "outputs": [
        {
          "output_type": "stream",
          "name": "stderr",
          "text": [
            "[nltk_data] Downloading package stopwords to /root/nltk_data...\n",
            "[nltk_data]   Package stopwords is already up-to-date!\n",
            "[nltk_data] Downloading package punkt to /root/nltk_data...\n",
            "[nltk_data]   Package punkt is already up-to-date!\n"
          ]
        },
        {
          "output_type": "execute_result",
          "data": {
            "text/plain": [
              "True"
            ]
          },
          "metadata": {},
          "execution_count": 59
        }
      ]
    },
    {
      "cell_type": "code",
      "source": [
        "from nltk.sentiment.vader import SentimentIntensityAnalyzer"
      ],
      "metadata": {
        "id": "usj5GhIX3MxQ"
      },
      "execution_count": null,
      "outputs": []
    },
    {
      "cell_type": "code",
      "source": [
        "import pandas as pd\n",
        "import numpy as np\n",
        "import nltk\n",
        "from nltk.sentiment.vader import SentimentIntensityAnalyzer\n",
        "from sklearn.feature_extraction.text import TfidfVectorizer\n",
        "from sklearn.model_selection import train_test_split\n",
        "from sklearn.metrics import accuracy_score, classification_report\n",
        "\n",
        "# Load your dataset (replace 'COVIDSenti.csv' with your actual dataset)\n",
        "try:\n",
        "    dataset = pd.read_csv('COVIDSenti.csv')\n",
        "except FileNotFoundError:\n",
        "    print(\"File not found. Please provide the correct file path.\")\n",
        "    exit()\n",
        "\n",
        "# Convert the \"tweet\" column to lowercase and remove special characters\n",
        "dataset['tweet'] = dataset['tweet'].str.lower()\n",
        "dataset['tweet'] = dataset['tweet'].str.replace('[^a-zA-Z\\s]', '')\n",
        "\n",
        "# Remove duplicate rows from the dataset\n",
        "dataset = dataset.drop_duplicates()\n",
        "\n",
        "# Download NLTK resources and VADER lexicon (run these lines once)\n",
        "nltk.download('vader_lexicon')\n",
        "\n",
        "# Initialize the VADER sentiment analyzer\n",
        "sid = SentimentIntensityAnalyzer()\n",
        "\n",
        "# Define a function to classify sentiment into 'positive', 'negative', or 'neutral'\n",
        "\n"
      ],
      "metadata": {
        "id": "bYO010fkA83x",
        "colab": {
          "base_uri": "https://localhost:8080/"
        },
        "outputId": "54dedefa-9c99-4abc-dce9-eb65197d292d"
      },
      "execution_count": 63,
      "outputs": [
        {
          "output_type": "stream",
          "name": "stderr",
          "text": [
            "<ipython-input-63-2bc53f1d8cc1>:18: FutureWarning: The default value of regex will change from True to False in a future version.\n",
            "  dataset['tweet'] = dataset['tweet'].str.replace('[^a-zA-Z\\s]', '')\n",
            "[nltk_data] Downloading package vader_lexicon to /root/nltk_data...\n",
            "[nltk_data]   Package vader_lexicon is already up-to-date!\n"
          ]
        },
        {
          "output_type": "stream",
          "name": "stdout",
          "text": [
            "                                               tweet label  positive  \\\n",
            "0  coronavirus  human coronavirus types  cdc http...   neu         0   \n",
            "1  shehryartaseer thats  true  \\ncorona virus \\ns...   neu         1   \n",
            "2  tldr not sars possibly new coronavirus difficu...   neg         0   \n",
            "3  disease outbreak news from the who middle east...   neu         1   \n",
            "4  china  media wsj says sources tell them myster...   neu         0   \n",
            "\n",
            "   negative  neutral  \n",
            "0         0        1  \n",
            "1         0        0  \n",
            "2         1        0  \n",
            "3         0        0  \n",
            "4         0        1  \n"
          ]
        }
      ]
    },
    {
      "cell_type": "code",
      "source": [
        "def calculate_polarity_scores(text):\n",
        "    sentiment_scores = sid.polarity_scores(text)\n",
        "    return sentiment_scores\n",
        "\n",
        "# Apply sentiment analysis and add polarity scores to the DataFrame\n",
        "dataset['polarity_scores'] = dataset['tweet'].apply(calculate_polarity_scores)\n",
        "\n",
        "# Print the first few rows of the DataFrame to see the polarity scores\n",
        "print(dataset[['tweet', 'polarity_scores']].head())"
      ],
      "metadata": {
        "colab": {
          "base_uri": "https://localhost:8080/"
        },
        "id": "21BqvEqHBXwS",
        "outputId": "c58dbdfe-9746-435f-8f79-0f3e90e1b52d"
      },
      "execution_count": 64,
      "outputs": [
        {
          "output_type": "stream",
          "name": "stdout",
          "text": [
            "                                               tweet  \\\n",
            "0  coronavirus  human coronavirus types  cdc http...   \n",
            "1  shehryartaseer thats  true  \\ncorona virus \\ns...   \n",
            "2  tldr not sars possibly new coronavirus difficu...   \n",
            "3  disease outbreak news from the who middle east...   \n",
            "4  china  media wsj says sources tell them myster...   \n",
            "\n",
            "                                     polarity_scores  \n",
            "0  {'neg': 0.0, 'neu': 1.0, 'pos': 0.0, 'compound...  \n",
            "1  {'neg': 0.116, 'neu': 0.759, 'pos': 0.125, 'co...  \n",
            "2  {'neg': 0.135, 'neu': 0.865, 'pos': 0.0, 'comp...  \n",
            "3  {'neg': 0.0, 'neu': 0.851, 'pos': 0.149, 'comp...  \n",
            "4  {'neg': 0.0, 'neu': 1.0, 'pos': 0.0, 'compound...  \n"
          ]
        }
      ]
    },
    {
      "cell_type": "code",
      "source": [
        "def classify_sentiment(tweet):\n",
        "    sentiment_scores = sid.polarity_scores(tweet)\n",
        "\n",
        "    if sentiment_scores['compound'] >= 0.05:\n",
        "        return 'positive'\n",
        "    elif sentiment_scores['compound'] <= -0.05:\n",
        "        return 'negative'\n",
        "    else:\n",
        "        return 'neutral'\n",
        "\n",
        "# Apply sentiment classification to the 'tweet' column and create new columns\n",
        "dataset['positive'] = dataset['tweet'].apply(lambda tweet: 1 if classify_sentiment(tweet) == 'positive' else 0)\n",
        "dataset['negative'] = dataset['tweet'].apply(lambda tweet: 1 if classify_sentiment(tweet) == 'negative' else 0)\n",
        "dataset['neutral'] = dataset['tweet'].apply(lambda tweet: 1 if classify_sentiment(tweet) == 'neutral' else 0)\n",
        "\n",
        "# Print the first few rows of the DataFrame to verify the changes\n",
        "print(dataset.head())"
      ],
      "metadata": {
        "colab": {
          "base_uri": "https://localhost:8080/"
        },
        "id": "2yOfPRO4CqDe",
        "outputId": "edea9f98-18de-4bf9-928e-cbffcbe64b8c"
      },
      "execution_count": 65,
      "outputs": [
        {
          "output_type": "stream",
          "name": "stdout",
          "text": [
            "                                               tweet label  positive  \\\n",
            "0  coronavirus  human coronavirus types  cdc http...   neu         0   \n",
            "1  shehryartaseer thats  true  \\ncorona virus \\ns...   neu         1   \n",
            "2  tldr not sars possibly new coronavirus difficu...   neg         0   \n",
            "3  disease outbreak news from the who middle east...   neu         1   \n",
            "4  china  media wsj says sources tell them myster...   neu         0   \n",
            "\n",
            "   negative  neutral                                    polarity_scores  \n",
            "0         0        1  {'neg': 0.0, 'neu': 1.0, 'pos': 0.0, 'compound...  \n",
            "1         0        0  {'neg': 0.116, 'neu': 0.759, 'pos': 0.125, 'co...  \n",
            "2         1        0  {'neg': 0.135, 'neu': 0.865, 'pos': 0.0, 'comp...  \n",
            "3         0        0  {'neg': 0.0, 'neu': 0.851, 'pos': 0.149, 'comp...  \n",
            "4         0        1  {'neg': 0.0, 'neu': 1.0, 'pos': 0.0, 'compound...  \n"
          ]
        }
      ]
    },
    {
      "cell_type": "code",
      "source": [
        "dataset = dataset.drop(columns=['label'])"
      ],
      "metadata": {
        "id": "ILaMfNt5C-cv"
      },
      "execution_count": 67,
      "outputs": []
    },
    {
      "cell_type": "code",
      "source": [
        "compound_scores = dataset['tweet'].apply(lambda tweet: sid.polarity_scores(tweet)['compound'])"
      ],
      "metadata": {
        "id": "lOg1pzDuDYzX"
      },
      "execution_count": 71,
      "outputs": []
    },
    {
      "cell_type": "code",
      "source": [
        "import matplotlib.pyplot as plt\n",
        "plt.hist(compound_scores, bins=20)\n",
        "plt.xlabel('Compound Score')\n",
        "plt.ylabel('Frequency')\n",
        "plt.title('Distribution of Compound Scores')\n",
        "plt.show()"
      ],
      "metadata": {
        "colab": {
          "base_uri": "https://localhost:8080/",
          "height": 472
        },
        "id": "JwRXzXS9Difg",
        "outputId": "ee389117-d175-4e79-e216-a61966f3102d"
      },
      "execution_count": 72,
      "outputs": [
        {
          "output_type": "display_data",
          "data": {
            "text/plain": [
              "<Figure size 640x480 with 1 Axes>"
            ],
            "image/png": "[encoded data removed]"
          },
          "metadata": {}
        }
      ]
    },
    {
      "cell_type": "code",
      "source": [
        "dataset['compound_score'] = dataset['polarity_scores'].apply(lambda x: x['compound'])\n",
        "print(dataset[['tweet', 'compound_score']])"
      ],
      "metadata": {
        "colab": {
          "base_uri": "https://localhost:8080/"
        },
        "id": "A4vF_cMBF83I",
        "outputId": "c435c08d-cd6e-455f-a717-0b46338da2d7"
      },
      "execution_count": 80,
      "outputs": [
        {
          "output_type": "stream",
          "name": "stdout",
          "text": [
            "                                                   tweet  compound_score\n",
            "0      coronavirus  human coronavirus types  cdc http...          0.0000\n",
            "1      shehryartaseer thats  true  \\ncorona virus \\ns...          0.0516\n",
            "2      tldr not sars possibly new coronavirus difficu...         -0.3612\n",
            "3      disease outbreak news from the who middle east...          0.4215\n",
            "4      china  media wsj says sources tell them myster...          0.0000\n",
            "...                                                  ...             ...\n",
            "89995  cracing the flu has a  death rate the coronavi...         -0.7783\n",
            "89996  realdonaldtrump we already know that but youre...         -0.6652\n",
            "89997  first coronavirus case reported in st joseph c...          0.0000\n",
            "89998  if you ate ants when you were a child youre im...          0.2960\n",
            "89999  all this coronavirus talk about to make me bea...         -0.0258\n",
            "\n",
            "[89741 rows x 2 columns]\n"
          ]
        }
      ]
    },
    {
      "cell_type": "code",
      "source": [
        "threshold = 0.25  # Adjust this threshold as needed\n",
        "\n",
        "# Modify the sentiment classification function using the chosen threshold\n",
        "def classify_sentiment(tweet):\n",
        "    sentiment_scores = sid.polarity_scores(tweet)\n",
        "\n",
        "    if sentiment_scores['compound'] >= threshold:\n",
        "        return 'positive'\n",
        "    elif sentiment_scores['compound'] <= -threshold:\n",
        "        return 'negative'\n",
        "    else:\n",
        "        return 'neutral'\n",
        "\n",
        "# Apply sentiment classification to the 'tweet' column and create new columns\n",
        "dataset['positive'] = dataset['tweet'].apply(lambda tweet: 1 if classify_sentiment(tweet) == 'positive' else 0)\n",
        "dataset['negative'] = dataset['tweet'].apply(lambda tweet: 1 if classify_sentiment(tweet) == 'negative' else 0)\n",
        "dataset['neutral'] = dataset['tweet'].apply(lambda tweet: 1 if classify_sentiment(tweet) == 'neutral' else 0)\n",
        "\n",
        "# Print the first few rows of the DataFrame to verify the changes\n",
        "print(dataset.head())\n",
        "\n"
      ],
      "metadata": {
        "colab": {
          "base_uri": "https://localhost:8080/"
        },
        "id": "oRw1rCl9FlaB",
        "outputId": "74183967-c643-466e-ce19-52ea5e05e2ac"
      },
      "execution_count": 78,
      "outputs": [
        {
          "output_type": "stream",
          "name": "stdout",
          "text": [
            "                                               tweet  positive  negative  \\\n",
            "0  coronavirus  human coronavirus types  cdc http...         0         0   \n",
            "1  shehryartaseer thats  true  \\ncorona virus \\ns...         0         0   \n",
            "2  tldr not sars possibly new coronavirus difficu...         0         1   \n",
            "3  disease outbreak news from the who middle east...         1         0   \n",
            "4  china  media wsj says sources tell them myster...         0         0   \n",
            "\n",
            "   neutral                                    polarity_scores  \n",
            "0        1  {'neg': 0.0, 'neu': 1.0, 'pos': 0.0, 'compound...  \n",
            "1        1  {'neg': 0.116, 'neu': 0.759, 'pos': 0.125, 'co...  \n",
            "2        0  {'neg': 0.135, 'neu': 0.865, 'pos': 0.0, 'comp...  \n",
            "3        0  {'neg': 0.0, 'neu': 0.851, 'pos': 0.149, 'comp...  \n",
            "4        1  {'neg': 0.0, 'neu': 1.0, 'pos': 0.0, 'compound...  \n"
          ]
        }
      ]
    },
    {
      "cell_type": "code",
      "source": [
        "# Assuming 'dataset' is your DataFrame\n",
        "dataset.to_csv('COVIDSenti.csv', index=False)\n"
      ],
      "metadata": {
        "id": "E1CIbVQUIWxa"
      },
      "execution_count": 83,
      "outputs": []
    },
    {
      "cell_type": "code",
      "source": [
        "from nltk.tokenize import sent_tokenize"
      ],
      "metadata": {
        "id": "zJtV9eG2M2pJ"
      },
      "execution_count": 84,
      "outputs": []
    },
    {
      "cell_type": "code",
      "source": [
        "def extract_sentences(tweet):\n",
        "    sentences = sent_tokenize(tweet)\n",
        "    return ' '.join(sentences)  # Join the sentences into a single string\n",
        "\n",
        "# Apply sentence extraction to the 'tweet' column\n",
        "dataset['tweet'] = dataset['tweet'].apply(extract_sentences)\n",
        "\n",
        "# Print the first few rows of the DataFrame to see the tweets with only pure sentences\n",
        "print(dataset[['tweet']].head())"
      ],
      "metadata": {
        "colab": {
          "base_uri": "https://localhost:8080/"
        },
        "id": "oKwGuj1tORwr",
        "outputId": "4b25ce60-a0f2-409c-9f21-4094257ac7f6"
      },
      "execution_count": 85,
      "outputs": [
        {
          "output_type": "stream",
          "name": "stdout",
          "text": [
            "                                               tweet\n",
            "0  coronavirus  human coronavirus types  cdc http...\n",
            "1  shehryartaseer thats  true  \\ncorona virus \\ns...\n",
            "2  tldr not sars possibly new coronavirus difficu...\n",
            "3  disease outbreak news from the who middle east...\n",
            "4  china  media wsj says sources tell them myster...\n"
          ]
        }
      ]
    },
    {
      "cell_type": "code",
      "source": [
        "# Assuming you have columns 'positive' and 'negative' representing sentiment labels\n",
        "extreme_emotions = dataset[(dataset['positive'] == 1) | (dataset['negative'] == 1)]\n",
        "\n",
        "# Print the first few rows of the filtered dataset\n",
        "print(extreme_emotions.head())"
      ],
      "metadata": {
        "colab": {
          "base_uri": "https://localhost:8080/"
        },
        "id": "B2SINQWyOYV1",
        "outputId": "3ca1f57c-299b-4639-af47-ed454d5a17e2"
      },
      "execution_count": 86,
      "outputs": [
        {
          "output_type": "stream",
          "name": "stdout",
          "text": [
            "                                               tweet  positive  negative  \\\n",
            "2  tldr not sars possibly new coronavirus difficu...         0         1   \n",
            "3  disease outbreak news from the who middle east...         1         0   \n",
            "6  virologists weigh in on novel coronavirus in c...         1         0   \n",
            "7  chinese authorities have made a preliminary de...         1         0   \n",
            "9  chinese report says mysterious illnesses may b...         0         1   \n",
            "\n",
            "   neutral                                    polarity_scores  compound_score  \n",
            "2        0  {'neg': 0.135, 'neu': 0.865, 'pos': 0.0, 'comp...         -0.3612  \n",
            "3        0  {'neg': 0.0, 'neu': 0.851, 'pos': 0.149, 'comp...          0.4215  \n",
            "6        0  {'neg': 0.0, 'neu': 0.796, 'pos': 0.204, 'comp...          0.3182  \n",
            "7        0  {'neg': 0.0, 'neu': 0.722, 'pos': 0.278, 'comp...          0.6124  \n",
            "9        0  {'neg': 0.242, 'neu': 0.758, 'pos': 0.0, 'comp...         -0.4939  \n"
          ]
        }
      ]
    },
    {
      "cell_type": "code",
      "source": [
        "print(extreme_emotions.count)"
      ],
      "metadata": {
        "colab": {
          "base_uri": "https://localhost:8080/"
        },
        "id": "yOBoNbboOz5M",
        "outputId": "4eb58ff9-8dc9-4230-dfaa-57b108c554a4"
      },
      "execution_count": 87,
      "outputs": [
        {
          "output_type": "stream",
          "name": "stdout",
          "text": [
            "<bound method DataFrame.count of                                                    tweet  positive  negative  \\\n",
            "2      tldr not sars possibly new coronavirus difficu...         0         1   \n",
            "3      disease outbreak news from the who middle east...         1         0   \n",
            "6      virologists weigh in on novel coronavirus in c...         1         0   \n",
            "7      chinese authorities have made a preliminary de...         1         0   \n",
            "9      chinese report says mysterious illnesses may b...         0         1   \n",
            "...                                                  ...       ...       ...   \n",
            "89992  corona virus is trippin for real \\nima clean e...         0         1   \n",
            "89994   words to those ppl who are still taking this ...         1         0   \n",
            "89995  cracing the flu has a  death rate the coronavi...         0         1   \n",
            "89996  realdonaldtrump we already know that but youre...         0         1   \n",
            "89998  if you ate ants when you were a child youre im...         1         0   \n",
            "\n",
            "       neutral                                    polarity_scores  \\\n",
            "2            0  {'neg': 0.135, 'neu': 0.865, 'pos': 0.0, 'comp...   \n",
            "3            0  {'neg': 0.0, 'neu': 0.851, 'pos': 0.149, 'comp...   \n",
            "6            0  {'neg': 0.0, 'neu': 0.796, 'pos': 0.204, 'comp...   \n",
            "7            0  {'neg': 0.0, 'neu': 0.722, 'pos': 0.278, 'comp...   \n",
            "9            0  {'neg': 0.242, 'neu': 0.758, 'pos': 0.0, 'comp...   \n",
            "...        ...                                                ...   \n",
            "89992        0  {'neg': 0.26, 'neu': 0.549, 'pos': 0.19, 'comp...   \n",
            "89994        0  {'neg': 0.0, 'neu': 0.845, 'pos': 0.155, 'comp...   \n",
            "89995        0  {'neg': 0.326, 'neu': 0.606, 'pos': 0.068, 'co...   \n",
            "89996        0  {'neg': 0.218, 'neu': 0.782, 'pos': 0.0, 'comp...   \n",
            "89998        0  {'neg': 0.0, 'neu': 0.845, 'pos': 0.155, 'comp...   \n",
            "\n",
            "       compound_score  \n",
            "2             -0.3612  \n",
            "3              0.4215  \n",
            "6              0.3182  \n",
            "7              0.6124  \n",
            "9             -0.4939  \n",
            "...               ...  \n",
            "89992         -0.4404  \n",
            "89994          0.2960  \n",
            "89995         -0.7783  \n",
            "89996         -0.6652  \n",
            "89998          0.2960  \n",
            "\n",
            "[46646 rows x 6 columns]>\n"
          ]
        }
      ]
    },
    {
      "cell_type": "code",
      "source": [],
      "metadata": {
        "id": "-CGTwsyzO6PG"
      },
      "execution_count": null,
      "outputs": []
    }
  ]
}