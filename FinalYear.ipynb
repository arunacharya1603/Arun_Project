{
  "nbformat": 4,
  "nbformat_minor": 0,
  "metadata": {
    "colab": {
      "provenance": [],
      "authorship_tag": "ABX9TyPmHw2mKl/JWUQprMql78y3",
      "include_colab_link": true
    },
    "kernelspec": {
      "name": "python3",
      "display_name": "Python 3"
    },
    "language_info": {
      "name": "python"
    }
  },
  "cells": [
    {
      "cell_type": "markdown",
      "metadata": {
        "id": "view-in-github",
        "colab_type": "text"
      },
      "source": [
        "<a href=\"https://colab.research.google.com/github/arunacharya1603/Arun_Project/blob/main/FinalYear.ipynb\" target=\"_parent\"><img src=\"https://colab.research.google.com/assets/colab-badge.svg\" alt=\"Open In Colab\"/></a>"
      ]
    },
    {
      "cell_type": "code",
      "execution_count": null,
      "metadata": {
        "id": "_ah9JX8Lk31l"
      },
      "outputs": [],
      "source": [
        "import pandas as pd\n",
        "import numpy as np\n",
        "from sklearn.model_selection import train_test_split\n",
        "from sklearn.feature_extraction.text import TfidfVectorizer\n",
        "from sklearn.metrics import accuracy_score, classification_report"
      ]
    },
    {
      "cell_type": "code",
      "source": [
        "dataset = pd.read_csv('COVIDSenti.csv')"
      ],
      "metadata": {
        "id": "a3BO8T9pk8Aw"
      },
      "execution_count": null,
      "outputs": []
    },
    {
      "cell_type": "code",
      "source": [
        "dataset['tweet'] = dataset['tweet'].str.lower()\n",
        "dataset['tweet'] = dataset['tweet'].str.replace('[^a-zA-Z\\s]', '')"
      ],
      "metadata": {
        "colab": {
          "base_uri": "https://localhost:8080/"
        },
        "id": "cz6IpgTXwFif",
        "outputId": "f9cfa7d3-1421-427d-89a2-355f68c71909"
      },
      "execution_count": null,
      "outputs": [
        {
          "output_type": "stream",
          "name": "stderr",
          "text": [
            "<ipython-input-66-4d0bff05f172>:2: FutureWarning: The default value of regex will change from True to False in a future version.\n",
            "  dataset['tweet'] = dataset['tweet'].str.replace('[^a-zA-Z\\s]', '')\n"
          ]
        }
      ]
    },
    {
      "cell_type": "code",
      "source": [
        "print(dataset.head())"
      ],
      "metadata": {
        "colab": {
          "base_uri": "https://localhost:8080/"
        },
        "id": "0Y5tRv1DzOaZ",
        "outputId": "a4252146-9a92-4c0e-9339-ec3e1a4d61e5"
      },
      "execution_count": null,
      "outputs": [
        {
          "output_type": "stream",
          "name": "stdout",
          "text": [
            "                                               tweet label\n",
            "0  coronavirus  human coronavirus types  cdc http...   neu\n",
            "1  shehryartaseer thats  true  \\ncorona virus \\ns...   neu\n",
            "2  tldr not sars possibly new coronavirus difficu...   neg\n",
            "3  disease outbreak news from the who middle east...   neu\n",
            "4  china  media wsj says sources tell them myster...   neu\n"
          ]
        }
      ]
    },
    {
      "cell_type": "code",
      "source": [
        "X_train, X_test, y_train, y_test = train_test_split(dataset['tweet'], dataset['label'], test_size=0.2, random_state=42)"
      ],
      "metadata": {
        "id": "L12U5SlKwZJd"
      },
      "execution_count": null,
      "outputs": []
    },
    {
      "cell_type": "code",
      "source": [
        "def read_data(file):\n",
        "    data = []\n",
        "    with open(file, 'r')as f:\n",
        "        for line in f:\n",
        "            line = line.strip()\n",
        "            label = ' '.join(line[1:line.find(\"]\")].strip().split())\n",
        "            text = line[line.find(\"]\")+1:].strip()\n",
        "            data.append([label, text])\n",
        "    return data\n",
        "\n",
        "file = 'COVIDSenti.csv'\n",
        "data = read_data(file)\n",
        "print(\"Number of instances: {}\".format(len(data)))"
      ],
      "metadata": {
        "colab": {
          "base_uri": "https://localhost:8080/"
        },
        "id": "gQv9rpUfxbvE",
        "outputId": "1e854c24-59d3-485e-b538-8b8359a2470e"
      },
      "execution_count": null,
      "outputs": [
        {
          "output_type": "stream",
          "name": "stdout",
          "text": [
            "Number of instances: 122136\n"
          ]
        }
      ]
    },
    {
      "cell_type": "code",
      "source": [
        "label_counts = dataset['label'].value_counts()\n",
        "\n",
        "# Display the counts\n",
        "print(\"Label Counts:\")\n",
        "print(label_counts)"
      ],
      "metadata": {
        "colab": {
          "base_uri": "https://localhost:8080/"
        },
        "id": "zrsPhgplx-Y8",
        "outputId": "33205719-eead-4c5f-fee4-60d70d861785"
      },
      "execution_count": null,
      "outputs": [
        {
          "output_type": "stream",
          "name": "stdout",
          "text": [
            "Label Counts:\n",
            "neu    67385\n",
            "neg    16335\n",
            "pos     6280\n",
            "Name: label, dtype: int64\n"
          ]
        }
      ]
    },
    {
      "cell_type": "code",
      "source": [
        "dataset = dataset.drop_duplicates()\n"
      ],
      "metadata": {
        "id": "FLIbdd-qyJO8"
      },
      "execution_count": null,
      "outputs": []
    },
    {
      "cell_type": "code",
      "source": [
        "print(dataset.head())\n",
        "print(dataset.tail())"
      ],
      "metadata": {
        "colab": {
          "base_uri": "https://localhost:8080/"
        },
        "id": "1Tkqb7RZyQBJ",
        "outputId": "9223e14b-7df0-4e6f-e414-4a24d3c88188"
      },
      "execution_count": null,
      "outputs": [
        {
          "output_type": "stream",
          "name": "stdout",
          "text": [
            "                                               tweet label\n",
            "0  coronavirus  human coronavirus types  cdc http...   neu\n",
            "1  shehryartaseer thats  true  \\ncorona virus \\ns...   neu\n",
            "2  tldr not sars possibly new coronavirus difficu...   neg\n",
            "3  disease outbreak news from the who middle east...   neu\n",
            "4  china  media wsj says sources tell them myster...   neu\n",
            "                                                   tweet label\n",
            "89995  cracing the flu has a  death rate the coronavi...   neu\n",
            "89996  realdonaldtrump we already know that but youre...   neg\n",
            "89997  first coronavirus case reported in st joseph c...   neu\n",
            "89998  if you ate ants when you were a child youre im...   neu\n",
            "89999  all this coronavirus talk about to make me bea...   neu\n"
          ]
        }
      ]
    },
    {
      "cell_type": "code",
      "source": [
        "dataset = dataset.dropna()\n",
        "print(dataset)"
      ],
      "metadata": {
        "colab": {
          "base_uri": "https://localhost:8080/"
        },
        "id": "KXJJg0b60oH7",
        "outputId": "dd5443ce-6fbe-4931-d380-e022b9be2f33"
      },
      "execution_count": null,
      "outputs": [
        {
          "output_type": "stream",
          "name": "stdout",
          "text": [
            "                                                   tweet label\n",
            "0      coronavirus  human coronavirus types  cdc http...   neu\n",
            "1      shehryartaseer thats  true  \\ncorona virus \\ns...   neu\n",
            "2      tldr not sars possibly new coronavirus difficu...   neg\n",
            "3      disease outbreak news from the who middle east...   neu\n",
            "4      china  media wsj says sources tell them myster...   neu\n",
            "...                                                  ...   ...\n",
            "89995  cracing the flu has a  death rate the coronavi...   neu\n",
            "89996  realdonaldtrump we already know that but youre...   neg\n",
            "89997  first coronavirus case reported in st joseph c...   neu\n",
            "89998  if you ate ants when you were a child youre im...   neu\n",
            "89999  all this coronavirus talk about to make me bea...   neu\n",
            "\n",
            "[89741 rows x 2 columns]\n"
          ]
        }
      ]
    },
    {
      "cell_type": "code",
      "source": [
        "label_counts = dataset['label'].value_counts()\n",
        "\n",
        "# Display the counts\n",
        "print(\"Label Counts:\")\n",
        "print(label_counts)"
      ],
      "metadata": {
        "colab": {
          "base_uri": "https://localhost:8080/"
        },
        "id": "5mIjv_3U06hs",
        "outputId": "d2188b0e-feba-4ba7-a37c-8be925199fb4"
      },
      "execution_count": null,
      "outputs": [
        {
          "output_type": "stream",
          "name": "stdout",
          "text": [
            "Label Counts:\n",
            "neu    67204\n",
            "neg    16299\n",
            "pos     6238\n",
            "Name: label, dtype: int64\n"
          ]
        }
      ]
    },
    {
      "cell_type": "code",
      "source": [
        "# Example: Remove rows where the 'label' column is 'irrelevant'\n",
        "dataset = dataset[dataset['label'] != 'irrelevant']\n",
        "print(dataset.count())\n"
      ],
      "metadata": {
        "colab": {
          "base_uri": "https://localhost:8080/"
        },
        "id": "Uwa1tvH20_5w",
        "outputId": "10c9c5c7-dab8-4a98-ddd3-86e253e2ae1d"
      },
      "execution_count": null,
      "outputs": [
        {
          "output_type": "stream",
          "name": "stdout",
          "text": [
            "tweet    89741\n",
            "label    89741\n",
            "dtype: int64\n"
          ]
        }
      ]
    },
    {
      "cell_type": "code",
      "source": [
        "# Assuming your labels are in a column named 'label'\n",
        "dataset['label'] = dataset['label'].replace({'neu': 'neutral', 'neg': 'negative', 'pos': 'positive'})\n"
      ],
      "metadata": {
        "id": "sdSN9K0P1M99"
      },
      "execution_count": null,
      "outputs": []
    },
    {
      "cell_type": "code",
      "source": [
        "# Create a dictionary to map numeric values to emotion labels\n",
        "label_mapping = {0: 'neutral', -1: 'negative', 1: 'positive'}\n",
        "\n",
        "# Assuming your labels are in a column named 'label'\n",
        "unique_labels = dataset['label'].unique()\n",
        "\n",
        "for label in unique_labels:\n",
        "    numeric_value = dataset[dataset['label'] == label]['label'].iloc[0]\n",
        "    emotion_label = label_mapping.get(numeric_value)\n",
        "    print(f\"Label: {numeric_value} corresponds to emotion: {emotion_label}\")"
      ],
      "metadata": {
        "colab": {
          "base_uri": "https://localhost:8080/"
        },
        "id": "XE7k_iRs2XDS",
        "outputId": "0c909134-29c4-4ae9-c4b7-24c3e094bd5c"
      },
      "execution_count": null,
      "outputs": [
        {
          "output_type": "stream",
          "name": "stdout",
          "text": [
            "Label: 0 corresponds to emotion: neutral\n",
            "Label: -1 corresponds to emotion: negative\n",
            "Label: 1 corresponds to emotion: positive\n"
          ]
        }
      ]
    },
    {
      "cell_type": "code",
      "source": [
        "import pandas as pd\n",
        "import nltk\n",
        "from nltk.stem import WordNetLemmatizer\n",
        "from nltk.tokenize import word_tokenize\n",
        "from nltk.corpus import wordnet\n",
        "nltk.download('wordnet')\n",
        "nltk.download('averaged_perceptron_tagger')\n",
        "\n",
        "# Initialize the WordNet lemmatizer\n",
        "lemmatizer = WordNetLemmatizer()\n",
        "\n",
        "# Define a function to map POS tags from Treebank to WordNet\n",
        "def get_wordnet_pos(treebank_tag):\n",
        "    if treebank_tag.startswith('J'):\n",
        "        return wordnet.ADJ\n",
        "    elif treebank_tag.startswith('V'):\n",
        "        return wordnet.VERB\n",
        "    elif treebank_tag.startswith('N'):\n",
        "        return wordnet.NOUN\n",
        "    elif treebank_tag.startswith('R'):\n",
        "        return wordnet.ADV\n",
        "    else:\n",
        "        return wordnet.NOUN  # Default to noun\n",
        "\n",
        "# Tokenize and lemmatize each tweet in the 'tweet' column\n",
        "dataset['tweet'] = dataset['tweet'].apply(lambda text: ' '.join([lemmatizer.lemmatize(word, get_wordnet_pos(pos_tag)) for word, pos_tag in nltk.pos_tag(word_tokenize(text))]))\n",
        "\n",
        "# Print the first few rows of the DataFrame to verify the changes\n",
        "print(dataset.head())\n"
      ],
      "metadata": {
        "colab": {
          "base_uri": "https://localhost:8080/"
        },
        "id": "QjZiC9QN3hEp",
        "outputId": "a0490248-a334-4a1c-8dab-dd75c8fa98ba"
      },
      "execution_count": null,
      "outputs": [
        {
          "output_type": "stream",
          "name": "stderr",
          "text": [
            "[nltk_data] Downloading package wordnet to /root/nltk_data...\n",
            "[nltk_data]   Package wordnet is already up-to-date!\n",
            "[nltk_data] Downloading package averaged_perceptron_tagger to\n",
            "[nltk_data]     /root/nltk_data...\n",
            "[nltk_data]   Unzipping taggers/averaged_perceptron_tagger.zip.\n"
          ]
        },
        {
          "output_type": "stream",
          "name": "stdout",
          "text": [
            "                                               tweet  label\n",
            "0  coronavirus human coronavirus type cdc httpstc...      0\n",
            "1  shehryartaseer thats true corona virus swine f...      0\n",
            "2  tldr not sars possibly new coronavirus difficu...     -1\n",
            "3  disease outbreak news from the who middle east...      0\n",
            "4  china medium wsj say source tell them mystery ...      0\n"
          ]
        }
      ]
    },
    {
      "cell_type": "code",
      "source": [
        "nltk.download('stopwords')\n",
        "nltk.download('punkt')"
      ],
      "metadata": {
        "colab": {
          "base_uri": "https://localhost:8080/"
        },
        "id": "_t7yPouL4Q6i",
        "outputId": "242752ba-3a81-400f-be0e-7ba4c0a2d2af"
      },
      "execution_count": null,
      "outputs": [
        {
          "output_type": "stream",
          "name": "stderr",
          "text": [
            "[nltk_data] Downloading package stopwords to /root/nltk_data...\n",
            "[nltk_data]   Unzipping corpora/stopwords.zip.\n",
            "[nltk_data] Downloading package punkt to /root/nltk_data...\n",
            "[nltk_data]   Package punkt is already up-to-date!\n"
          ]
        },
        {
          "output_type": "execute_result",
          "data": {
            "text/plain": [
              "True"
            ]
          },
          "metadata": {},
          "execution_count": 56
        }
      ]
    },
    {
      "cell_type": "code",
      "source": [
        "def preprocess_text(text):\n",
        "    # Lowercase the text\n",
        "    text = text.lower()\n",
        "\n",
        "    # Tokenize the text\n",
        "    tokens = word_tokenize(text)\n",
        "\n",
        "    # Remove punctuation and numbers\n",
        "    tokens = [token for token in tokens if token.isalpha()]\n",
        "\n",
        "    # Remove stopwords\n",
        "    stop_words = set(stopwords.words('english'))\n",
        "    tokens = [token for token in tokens if token not in stop_words]\n",
        "\n",
        "\n",
        "    # Join the tokens back into a string\n",
        "    processed_text = ' '.join(tokens)\n",
        "\n",
        "    return processed_text\n",
        "\n",
        "# Apply text preprocessing to the 'tweet' column\n",
        "dataset['tweet'] = dataset['tweet'].apply(preprocess_text)\n",
        "\n",
        "# Print the first few rows of the DataFrame to verify the changes\n",
        "print(dataset.head())"
      ],
      "metadata": {
        "colab": {
          "base_uri": "https://localhost:8080/"
        },
        "id": "SU5iVau46bIe",
        "outputId": "4931e398-d0de-4f03-ef19-7dfa2c33137a"
      },
      "execution_count": null,
      "outputs": [
        {
          "output_type": "stream",
          "name": "stdout",
          "text": [
            "                                               tweet  label\n",
            "0  coronavirus human coronavirus type cdc httpstc...      0\n",
            "1  shehryartaseer thats true corona virus swine f...      0\n",
            "2  tldr sars possibly new coronavirus difficult c...     -1\n",
            "3  disease outbreak news middle east respiratory ...      0\n",
            "4  china medium wsj say source tell mystery pneum...      0\n"
          ]
        }
      ]
    },
    {
      "cell_type": "code",
      "source": [
        "print(dataset.count())\n",
        "print(dataset)"
      ],
      "metadata": {
        "colab": {
          "base_uri": "https://localhost:8080/"
        },
        "id": "mRHnLgQi6sJO",
        "outputId": "c7770231-5c18-4008-e02e-04a526f5b5f8"
      },
      "execution_count": null,
      "outputs": [
        {
          "output_type": "stream",
          "name": "stdout",
          "text": [
            "tweet    89741\n",
            "label    89741\n",
            "dtype: int64\n",
            "                                                   tweet  label\n",
            "0      coronavirus human coronavirus type cdc httpstc...      0\n",
            "1      shehryartaseer thats true corona virus swine f...      0\n",
            "2      tldr sars possibly new coronavirus difficult c...     -1\n",
            "3      disease outbreak news middle east respiratory ...      0\n",
            "4      china medium wsj say source tell mystery pneum...      0\n",
            "...                                                  ...    ...\n",
            "89995  cracing flu death rate coronavirus fine risk o...      0\n",
            "89996  realdonaldtrump already know youre idiot bungl...     -1\n",
            "89997  first coronavirus case report st joseph county...      0\n",
            "89998             eat ant child youre immune coronavirus      0\n",
            "89999     coronavirus talk make beat dick hand sanitizer      0\n",
            "\n",
            "[89741 rows x 2 columns]\n"
          ]
        }
      ]
    },
    {
      "cell_type": "code",
      "source": [],
      "metadata": {
        "id": "AFash7TT65rx"
      },
      "execution_count": null,
      "outputs": []
    }
  ]
}